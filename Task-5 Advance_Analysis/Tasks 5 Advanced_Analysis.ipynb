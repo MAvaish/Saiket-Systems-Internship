{
 "cells": [
  {
   "cell_type": "code",
   "execution_count": null,
   "metadata": {},
   "outputs": [],
   "source": [
    "\n",
    "import pandas as pd  \n",
    "import matplotlib.pyplot as plt  \n",
    "import seaborn as sns  \n",
    "import plotly.io as pio\n",
    "pio.renderers.default = \"browser\"  \n",
    "\n",
    "import plotly.express as px  \n",
    "import plotly.graph_objects as go  \n",
    " \n",
    "\n",
    "file_path = \"C:\\\\Users\\\\91739\\\\Downloads\\\\Telco_Customer_Churn_Dataset  (3).csv\"  \n",
    "df = pd.read_csv(file_path)"
   ]
  },
  {
   "cell_type": "code",
   "execution_count": 45,
   "metadata": {},
   "outputs": [
    {
     "name": "stdout",
     "output_type": "stream",
     "text": [
      "\n",
      "Dataset Columns: Index(['customerID', 'gender', 'SeniorCitizen', 'Partner', 'Dependents',\n",
      "       'tenure', 'PhoneService', 'MultipleLines', 'InternetService',\n",
      "       'OnlineSecurity', 'OnlineBackup', 'DeviceProtection', 'TechSupport',\n",
      "       'StreamingTV', 'StreamingMovies', 'Contract', 'PaperlessBilling',\n",
      "       'PaymentMethod', 'MonthlyCharges', 'TotalCharges', 'Churn'],\n",
      "      dtype='object')\n"
     ]
    }
   ],
   "source": [
    "print(\"\\nDataset Columns:\", df.columns)"
   ]
  },
  {
   "cell_type": "code",
   "execution_count": 64,
   "metadata": {},
   "outputs": [
    {
     "name": "stdout",
     "output_type": "stream",
     "text": [
      "\n",
      "Generating Churn Rate by Gender...\n"
     ]
    }
   ],
   "source": [
    "\n",
    "# Churn rates by gender\n",
    "if 'Churn' in df.columns and 'gender' in df.columns:\n",
    "    print(\"\\nGenerating Churn Rate by Gender...\")\n",
    "    fig_gender = px.histogram(df, x='gender', color='Churn', barmode='group', title='Churn Rate by Gender')\n",
    "    fig_gender.show(renderer=\"browser\")"
   ]
  },
  {
   "cell_type": "code",
   "execution_count": 55,
   "metadata": {},
   "outputs": [
    {
     "name": "stdout",
     "output_type": "stream",
     "text": [
      "\n",
      "Generating Churn Rate by Senior Citizen Status...\n"
     ]
    }
   ],
   "source": [
    "import plotly.express as px\n",
    "\n",
    "# Ensure df is defined and contains the necessary columns\n",
    "if 'Churn' in df.columns and 'SeniorCitizen' in df.columns:\n",
    "    print(\"\\nGenerating Churn Rate by Senior Citizen Status...\")\n",
    "    fig_senior = px.histogram(df, x='SeniorCitizen', color='Churn', barmode='group', title='Churn Rate by Senior Citizen Status')\n",
    "    fig_senior.show(renderer=\"browser\")\n",
    "else:\n",
    "    print(\"The required columns are not present in the DataFrame.\")\n"
   ]
  },
  {
   "cell_type": "code",
   "execution_count": 62,
   "metadata": {},
   "outputs": [
    {
     "name": "stdout",
     "output_type": "stream",
     "text": [
      "\n",
      "Generating Churn Rate by Contract Type...\n"
     ]
    }
   ],
   "source": [
    "# Churn rates by contract type\n",
    "if 'Churn' in df.columns and 'Contract' in df.columns:\n",
    "    print(\"\\nGenerating Churn Rate by Contract Type...\")\n",
    "    fig_contract = px.histogram(df, x='Contract', color='Churn', barmode='group', title='Churn Rate by Contract Type')\n",
    "    fig_contract.show(renderer=\"browser\")"
   ]
  },
  {
   "cell_type": "code",
   "execution_count": 65,
   "metadata": {},
   "outputs": [
    {
     "name": "stdout",
     "output_type": "stream",
     "text": [
      "\n",
      "Generating Churn Rate by Payment Method...\n"
     ]
    }
   ],
   "source": [
    "# Churn rates by payment method\n",
    "if 'Churn' in df.columns and 'PaymentMethod' in df.columns:\n",
    "    print(\"\\nGenerating Churn Rate by Payment Method...\")\n",
    "    fig_payment = px.histogram(df, x='PaymentMethod', color='Churn', barmode='group', title='Churn Rate by Payment Method')\n",
    "    fig_payment.show(renderer=\"browser\")"
   ]
  },
  {
   "cell_type": "code",
   "execution_count": 67,
   "metadata": {},
   "outputs": [
    {
     "name": "stdout",
     "output_type": "stream",
     "text": [
      "\n",
      "Advanced Analysis Completed\n"
     ]
    }
   ],
   "source": [
    "print(\"\\nAdvanced Analysis Completed\")"
   ]
  },
  {
   "cell_type": "code",
   "execution_count": null,
   "metadata": {},
   "outputs": [],
   "source": []
  }
 ],
 "metadata": {
  "kernelspec": {
   "display_name": "Python 3",
   "language": "python",
   "name": "python3"
  },
  "language_info": {
   "codemirror_mode": {
    "name": "ipython",
    "version": 3
   },
   "file_extension": ".py",
   "mimetype": "text/x-python",
   "name": "python",
   "nbconvert_exporter": "python",
   "pygments_lexer": "ipython3",
   "version": "3.13.1"
  }
 },
 "nbformat": 4,
 "nbformat_minor": 2
}
